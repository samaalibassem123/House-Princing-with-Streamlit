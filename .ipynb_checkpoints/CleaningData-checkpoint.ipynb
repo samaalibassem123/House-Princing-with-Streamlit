{
 "cells": [
  {
   "cell_type": "markdown",
   "metadata": {},
   "source": [
    "# Data Analysing for House Pricincg"
   ]
  }
 ],
 "metadata": {
  "language_info": {
   "name": "python"
  }
 },
 "nbformat": 4,
 "nbformat_minor": 2
}
